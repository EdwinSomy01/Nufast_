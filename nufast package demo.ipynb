{
 "cells": [
  {
   "cell_type": "code",
   "execution_count": 12,
   "id": "1e3784e7-8adf-4b77-b95d-3fbe436d0393",
   "metadata": {},
   "outputs": [
    {
     "data": {
      "text/plain": [
       "{('e', 'e'): np.float64(0.9333449149336461),\n",
       " ('e', 'mu'): np.float64(0.007195153983288963),\n",
       " ('e', 'tau'): np.float64(0.05945993108306491),\n",
       " ('mu', 'e'): np.float64(0.0470988141832724),\n",
       " ('mu', 'mu'): np.float64(0.3324834171506845),\n",
       " ('mu', 'tau'): np.float64(0.620417768666043),\n",
       " ('tau', 'e'): np.float64(0.01955627088308147),\n",
       " ('tau', 'mu'): np.float64(0.6603214288660265),\n",
       " ('tau', 'tau'): np.float64(0.32012230025089206)}"
      ]
     },
     "execution_count": 12,
     "metadata": {},
     "output_type": "execute_result"
    }
   ],
   "source": [
    "from nufast import Probability_Matter_LBL\n",
    "\n",
    "import numpy as np\n",
    "\n",
    "Pmm = Probability_Matter_LBL(\n",
    "    s12sq=0.307,\n",
    "    s13sq=0.0218,\n",
    "    s23sq=0.51,\n",
    "    delta=np.pi * 1.36,\n",
    "    Dmsq21=7.53e-5,\n",
    "    Dmsq31=2.45e-3,\n",
    "    L=540,\n",
    "    E=0.4,\n",
    "    rho=2.8,\n",
    "    Ye=0.5,\n",
    "    N_Newton=3\n",
    ")\n",
    "\n",
    "Pmm\n"
   ]
  }
 ],
 "metadata": {
  "kernelspec": {
   "display_name": "Python 3 (ipykernel)",
   "language": "python",
   "name": "python3"
  },
  "language_info": {
   "codemirror_mode": {
    "name": "ipython",
    "version": 3
   },
   "file_extension": ".py",
   "mimetype": "text/x-python",
   "name": "python",
   "nbconvert_exporter": "python",
   "pygments_lexer": "ipython3",
   "version": "3.13.2"
  }
 },
 "nbformat": 4,
 "nbformat_minor": 5
}
